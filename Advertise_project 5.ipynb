{
 "cells": [
  {
   "cell_type": "code",
   "execution_count": 90,
   "metadata": {},
   "outputs": [],
   "source": [
    "import numpy as np\n",
    "import pandas as pd\n",
    "import sklearn\n",
    "import seaborn as sns\n",
    "import matplotlib.pyplot as plt\n",
    "from sklearn.model_selection import train_test_split"
   ]
  },
  {
   "cell_type": "code",
   "execution_count": 91,
   "metadata": {},
   "outputs": [],
   "source": [
    "df=pd.read_csv('Advertise.csv')\n",
    "df=pd.DataFrame(df)"
   ]
  },
  {
   "cell_type": "code",
   "execution_count": 92,
   "metadata": {},
   "outputs": [
    {
     "data": {
      "text/html": [
       "<div>\n",
       "<style scoped>\n",
       "    .dataframe tbody tr th:only-of-type {\n",
       "        vertical-align: middle;\n",
       "    }\n",
       "\n",
       "    .dataframe tbody tr th {\n",
       "        vertical-align: top;\n",
       "    }\n",
       "\n",
       "    .dataframe thead th {\n",
       "        text-align: right;\n",
       "    }\n",
       "</style>\n",
       "<table border=\"1\" class=\"dataframe\">\n",
       "  <thead>\n",
       "    <tr style=\"text-align: right;\">\n",
       "      <th></th>\n",
       "      <th>Unnamed: 0</th>\n",
       "      <th>TV</th>\n",
       "      <th>radio</th>\n",
       "      <th>newspaper</th>\n",
       "      <th>sales</th>\n",
       "    </tr>\n",
       "  </thead>\n",
       "  <tbody>\n",
       "    <tr>\n",
       "      <th>0</th>\n",
       "      <td>1</td>\n",
       "      <td>230.1</td>\n",
       "      <td>37.8</td>\n",
       "      <td>69.2</td>\n",
       "      <td>22.1</td>\n",
       "    </tr>\n",
       "    <tr>\n",
       "      <th>1</th>\n",
       "      <td>2</td>\n",
       "      <td>44.5</td>\n",
       "      <td>39.3</td>\n",
       "      <td>45.1</td>\n",
       "      <td>10.4</td>\n",
       "    </tr>\n",
       "    <tr>\n",
       "      <th>2</th>\n",
       "      <td>3</td>\n",
       "      <td>17.2</td>\n",
       "      <td>45.9</td>\n",
       "      <td>69.3</td>\n",
       "      <td>9.3</td>\n",
       "    </tr>\n",
       "    <tr>\n",
       "      <th>3</th>\n",
       "      <td>4</td>\n",
       "      <td>151.5</td>\n",
       "      <td>41.3</td>\n",
       "      <td>58.5</td>\n",
       "      <td>18.5</td>\n",
       "    </tr>\n",
       "    <tr>\n",
       "      <th>4</th>\n",
       "      <td>5</td>\n",
       "      <td>180.8</td>\n",
       "      <td>10.8</td>\n",
       "      <td>58.4</td>\n",
       "      <td>12.9</td>\n",
       "    </tr>\n",
       "    <tr>\n",
       "      <th>...</th>\n",
       "      <td>...</td>\n",
       "      <td>...</td>\n",
       "      <td>...</td>\n",
       "      <td>...</td>\n",
       "      <td>...</td>\n",
       "    </tr>\n",
       "    <tr>\n",
       "      <th>195</th>\n",
       "      <td>196</td>\n",
       "      <td>38.2</td>\n",
       "      <td>3.7</td>\n",
       "      <td>13.8</td>\n",
       "      <td>7.6</td>\n",
       "    </tr>\n",
       "    <tr>\n",
       "      <th>196</th>\n",
       "      <td>197</td>\n",
       "      <td>94.2</td>\n",
       "      <td>4.9</td>\n",
       "      <td>8.1</td>\n",
       "      <td>9.7</td>\n",
       "    </tr>\n",
       "    <tr>\n",
       "      <th>197</th>\n",
       "      <td>198</td>\n",
       "      <td>177.0</td>\n",
       "      <td>9.3</td>\n",
       "      <td>6.4</td>\n",
       "      <td>12.8</td>\n",
       "    </tr>\n",
       "    <tr>\n",
       "      <th>198</th>\n",
       "      <td>199</td>\n",
       "      <td>283.6</td>\n",
       "      <td>42.0</td>\n",
       "      <td>66.2</td>\n",
       "      <td>25.5</td>\n",
       "    </tr>\n",
       "    <tr>\n",
       "      <th>199</th>\n",
       "      <td>200</td>\n",
       "      <td>232.1</td>\n",
       "      <td>8.6</td>\n",
       "      <td>8.7</td>\n",
       "      <td>13.4</td>\n",
       "    </tr>\n",
       "  </tbody>\n",
       "</table>\n",
       "<p>200 rows × 5 columns</p>\n",
       "</div>"
      ],
      "text/plain": [
       "     Unnamed: 0     TV  radio  newspaper  sales\n",
       "0             1  230.1   37.8       69.2   22.1\n",
       "1             2   44.5   39.3       45.1   10.4\n",
       "2             3   17.2   45.9       69.3    9.3\n",
       "3             4  151.5   41.3       58.5   18.5\n",
       "4             5  180.8   10.8       58.4   12.9\n",
       "..          ...    ...    ...        ...    ...\n",
       "195         196   38.2    3.7       13.8    7.6\n",
       "196         197   94.2    4.9        8.1    9.7\n",
       "197         198  177.0    9.3        6.4   12.8\n",
       "198         199  283.6   42.0       66.2   25.5\n",
       "199         200  232.1    8.6        8.7   13.4\n",
       "\n",
       "[200 rows x 5 columns]"
      ]
     },
     "execution_count": 92,
     "metadata": {},
     "output_type": "execute_result"
    }
   ],
   "source": [
    "df"
   ]
  },
  {
   "cell_type": "code",
   "execution_count": 93,
   "metadata": {},
   "outputs": [
    {
     "data": {
      "text/html": [
       "<div>\n",
       "<style scoped>\n",
       "    .dataframe tbody tr th:only-of-type {\n",
       "        vertical-align: middle;\n",
       "    }\n",
       "\n",
       "    .dataframe tbody tr th {\n",
       "        vertical-align: top;\n",
       "    }\n",
       "\n",
       "    .dataframe thead th {\n",
       "        text-align: right;\n",
       "    }\n",
       "</style>\n",
       "<table border=\"1\" class=\"dataframe\">\n",
       "  <thead>\n",
       "    <tr style=\"text-align: right;\">\n",
       "      <th></th>\n",
       "      <th>Unnamed: 0</th>\n",
       "      <th>TV</th>\n",
       "      <th>radio</th>\n",
       "      <th>newspaper</th>\n",
       "      <th>sales</th>\n",
       "    </tr>\n",
       "  </thead>\n",
       "  <tbody>\n",
       "    <tr>\n",
       "      <th>0</th>\n",
       "      <td>1</td>\n",
       "      <td>230.1</td>\n",
       "      <td>37.8</td>\n",
       "      <td>69.2</td>\n",
       "      <td>22.1</td>\n",
       "    </tr>\n",
       "    <tr>\n",
       "      <th>1</th>\n",
       "      <td>2</td>\n",
       "      <td>44.5</td>\n",
       "      <td>39.3</td>\n",
       "      <td>45.1</td>\n",
       "      <td>10.4</td>\n",
       "    </tr>\n",
       "    <tr>\n",
       "      <th>2</th>\n",
       "      <td>3</td>\n",
       "      <td>17.2</td>\n",
       "      <td>45.9</td>\n",
       "      <td>69.3</td>\n",
       "      <td>9.3</td>\n",
       "    </tr>\n",
       "    <tr>\n",
       "      <th>3</th>\n",
       "      <td>4</td>\n",
       "      <td>151.5</td>\n",
       "      <td>41.3</td>\n",
       "      <td>58.5</td>\n",
       "      <td>18.5</td>\n",
       "    </tr>\n",
       "    <tr>\n",
       "      <th>4</th>\n",
       "      <td>5</td>\n",
       "      <td>180.8</td>\n",
       "      <td>10.8</td>\n",
       "      <td>58.4</td>\n",
       "      <td>12.9</td>\n",
       "    </tr>\n",
       "  </tbody>\n",
       "</table>\n",
       "</div>"
      ],
      "text/plain": [
       "   Unnamed: 0     TV  radio  newspaper  sales\n",
       "0           1  230.1   37.8       69.2   22.1\n",
       "1           2   44.5   39.3       45.1   10.4\n",
       "2           3   17.2   45.9       69.3    9.3\n",
       "3           4  151.5   41.3       58.5   18.5\n",
       "4           5  180.8   10.8       58.4   12.9"
      ]
     },
     "execution_count": 93,
     "metadata": {},
     "output_type": "execute_result"
    }
   ],
   "source": [
    "df.head()"
   ]
  },
  {
   "cell_type": "code",
   "execution_count": 94,
   "metadata": {},
   "outputs": [
    {
     "data": {
      "text/plain": [
       "Unnamed: 0      int64\n",
       "TV            float64\n",
       "radio         float64\n",
       "newspaper     float64\n",
       "sales         float64\n",
       "dtype: object"
      ]
     },
     "execution_count": 94,
     "metadata": {},
     "output_type": "execute_result"
    }
   ],
   "source": [
    "df.dtypes               # We have object type of data. "
   ]
  },
  {
   "cell_type": "code",
   "execution_count": 95,
   "metadata": {},
   "outputs": [
    {
     "data": {
      "text/plain": [
       "(200, 5)"
      ]
     },
     "execution_count": 95,
     "metadata": {},
     "output_type": "execute_result"
    }
   ],
   "source": [
    "df.shape   # shape of data is 200 rows and 5 columns"
   ]
  },
  {
   "cell_type": "code",
   "execution_count": 96,
   "metadata": {},
   "outputs": [
    {
     "data": {
      "text/html": [
       "<div>\n",
       "<style scoped>\n",
       "    .dataframe tbody tr th:only-of-type {\n",
       "        vertical-align: middle;\n",
       "    }\n",
       "\n",
       "    .dataframe tbody tr th {\n",
       "        vertical-align: top;\n",
       "    }\n",
       "\n",
       "    .dataframe thead th {\n",
       "        text-align: right;\n",
       "    }\n",
       "</style>\n",
       "<table border=\"1\" class=\"dataframe\">\n",
       "  <thead>\n",
       "    <tr style=\"text-align: right;\">\n",
       "      <th></th>\n",
       "      <th>Unnamed: 0</th>\n",
       "      <th>TV</th>\n",
       "      <th>radio</th>\n",
       "      <th>newspaper</th>\n",
       "      <th>sales</th>\n",
       "    </tr>\n",
       "  </thead>\n",
       "  <tbody>\n",
       "    <tr>\n",
       "      <th>count</th>\n",
       "      <td>200.000000</td>\n",
       "      <td>200.000000</td>\n",
       "      <td>200.000000</td>\n",
       "      <td>200.000000</td>\n",
       "      <td>200.000000</td>\n",
       "    </tr>\n",
       "    <tr>\n",
       "      <th>mean</th>\n",
       "      <td>100.500000</td>\n",
       "      <td>147.042500</td>\n",
       "      <td>23.264000</td>\n",
       "      <td>30.554000</td>\n",
       "      <td>14.022500</td>\n",
       "    </tr>\n",
       "    <tr>\n",
       "      <th>std</th>\n",
       "      <td>57.879185</td>\n",
       "      <td>85.854236</td>\n",
       "      <td>14.846809</td>\n",
       "      <td>21.778621</td>\n",
       "      <td>5.217457</td>\n",
       "    </tr>\n",
       "    <tr>\n",
       "      <th>min</th>\n",
       "      <td>1.000000</td>\n",
       "      <td>0.700000</td>\n",
       "      <td>0.000000</td>\n",
       "      <td>0.300000</td>\n",
       "      <td>1.600000</td>\n",
       "    </tr>\n",
       "    <tr>\n",
       "      <th>25%</th>\n",
       "      <td>50.750000</td>\n",
       "      <td>74.375000</td>\n",
       "      <td>9.975000</td>\n",
       "      <td>12.750000</td>\n",
       "      <td>10.375000</td>\n",
       "    </tr>\n",
       "    <tr>\n",
       "      <th>50%</th>\n",
       "      <td>100.500000</td>\n",
       "      <td>149.750000</td>\n",
       "      <td>22.900000</td>\n",
       "      <td>25.750000</td>\n",
       "      <td>12.900000</td>\n",
       "    </tr>\n",
       "    <tr>\n",
       "      <th>75%</th>\n",
       "      <td>150.250000</td>\n",
       "      <td>218.825000</td>\n",
       "      <td>36.525000</td>\n",
       "      <td>45.100000</td>\n",
       "      <td>17.400000</td>\n",
       "    </tr>\n",
       "    <tr>\n",
       "      <th>max</th>\n",
       "      <td>200.000000</td>\n",
       "      <td>296.400000</td>\n",
       "      <td>49.600000</td>\n",
       "      <td>114.000000</td>\n",
       "      <td>27.000000</td>\n",
       "    </tr>\n",
       "  </tbody>\n",
       "</table>\n",
       "</div>"
      ],
      "text/plain": [
       "       Unnamed: 0          TV       radio   newspaper       sales\n",
       "count  200.000000  200.000000  200.000000  200.000000  200.000000\n",
       "mean   100.500000  147.042500   23.264000   30.554000   14.022500\n",
       "std     57.879185   85.854236   14.846809   21.778621    5.217457\n",
       "min      1.000000    0.700000    0.000000    0.300000    1.600000\n",
       "25%     50.750000   74.375000    9.975000   12.750000   10.375000\n",
       "50%    100.500000  149.750000   22.900000   25.750000   12.900000\n",
       "75%    150.250000  218.825000   36.525000   45.100000   17.400000\n",
       "max    200.000000  296.400000   49.600000  114.000000   27.000000"
      ]
     },
     "execution_count": 96,
     "metadata": {},
     "output_type": "execute_result"
    }
   ],
   "source": [
    "df.describe()"
   ]
  },
  {
   "cell_type": "markdown",
   "metadata": {},
   "source": [
    "From the above data we could see the data is showing the count of people using the media for entertainment and Companies are using these means to adverties there various product to bring in notice of people.\n",
    "\n"
   ]
  },
  {
   "cell_type": "code",
   "execution_count": 97,
   "metadata": {},
   "outputs": [
    {
     "data": {
      "text/plain": [
       "Unnamed: 0    0\n",
       "TV            0\n",
       "radio         0\n",
       "newspaper     0\n",
       "sales         0\n",
       "dtype: int64"
      ]
     },
     "execution_count": 97,
     "metadata": {},
     "output_type": "execute_result"
    }
   ],
   "source": [
    "df.isnull().sum()"
   ]
  },
  {
   "cell_type": "markdown",
   "metadata": {},
   "source": [
    "We do not have any null values"
   ]
  },
  {
   "cell_type": "markdown",
   "metadata": {},
   "source": [
    "# Visualisation"
   ]
  },
  {
   "cell_type": "code",
   "execution_count": 98,
   "metadata": {},
   "outputs": [
    {
     "data": {
      "image/png": "[encoded data removed]",
      "text/plain": [
       "<Figure size 720x576 with 2 Axes>"
      ]
     },
     "metadata": {
      "needs_background": "light"
     },
     "output_type": "display_data"
    }
   ],
   "source": [
    "corr_mat=df.corr()\n",
    "\n",
    "plt.figure(figsize=[10,8])\n",
    "sns.heatmap(corr_mat,annot=True)\n",
    "plt.title('Correlation Matrix')\n",
    "plt.show()"
   ]
  },
  {
   "cell_type": "code",
   "execution_count": 99,
   "metadata": {},
   "outputs": [
    {
     "data": {
      "text/plain": [
       "Unnamed: 0       AxesSubplot(0.125,0.536818;0.110714x0.343182)\n",
       "TV            AxesSubplot(0.257857,0.536818;0.110714x0.343182)\n",
       "radio         AxesSubplot(0.390714,0.536818;0.110714x0.343182)\n",
       "newspaper     AxesSubplot(0.523571,0.536818;0.110714x0.343182)\n",
       "sales         AxesSubplot(0.656429,0.536818;0.110714x0.343182)\n",
       "dtype: object"
      ]
     },
     "execution_count": 99,
     "metadata": {},
     "output_type": "execute_result"
    },
    {
     "data": {
      "image/png": "[encoded data removed]",
      "text/plain": [
       "<Figure size 432x288 with 12 Axes>"
      ]
     },
     "metadata": {
      "needs_background": "light"
     },
     "output_type": "display_data"
    }
   ],
   "source": [
    "df.plot(kind='box',subplots=True, layout=(2,6))"
   ]
  },
  {
   "cell_type": "markdown",
   "metadata": {},
   "source": [
    "We have outliers in Newspaper "
   ]
  },
  {
   "cell_type": "code",
   "execution_count": 100,
   "metadata": {},
   "outputs": [],
   "source": [
    "df=df.drop(['Unnamed: 0'], axis = 1) "
   ]
  },
  {
   "cell_type": "code",
   "execution_count": 101,
   "metadata": {},
   "outputs": [
    {
     "data": {
      "text/plain": [
       "(200, 4)"
      ]
     },
     "execution_count": 101,
     "metadata": {},
     "output_type": "execute_result"
    }
   ],
   "source": [
    "df.shape"
   ]
  },
  {
   "cell_type": "markdown",
   "metadata": {},
   "source": [
    "We are dropping the Unnamed:0 column as it do not have any relation with sales it is an invalid or data of no use to us."
   ]
  },
  {
   "cell_type": "code",
   "execution_count": 102,
   "metadata": {},
   "outputs": [
    {
     "data": {
      "image/png": "[encoded data removed]",
      "text/plain": [
       "<Figure size 720x576 with 2 Axes>"
      ]
     },
     "metadata": {
      "needs_background": "light"
     },
     "output_type": "display_data"
    }
   ],
   "source": [
    "corr_mat=df.corr()\n",
    "plt.figure(figsize=[10,8])\n",
    "sns.heatmap(corr_mat,annot=True)\n",
    "plt.title('Correlation Matrix')\n",
    "plt.show()"
   ]
  },
  {
   "cell_type": "markdown",
   "metadata": {},
   "source": [
    "Observations-  We can see that the sales  is about 78% through TV channel, 58% through Radio, and 23% through newspaper."
   ]
  },
  {
   "cell_type": "code",
   "execution_count": 103,
   "metadata": {},
   "outputs": [
    {
     "data": {
      "image/png": "[encoded data removed]",
      "text/plain": [
       "<Figure size 432x288 with 1 Axes>"
      ]
     },
     "metadata": {
      "needs_background": "light"
     },
     "output_type": "display_data"
    }
   ],
   "source": [
    "plt.bar(df['sales'], df['newspaper'])\n",
    "plt.xlabel('sales')\n",
    "plt.ylabel('newspaper')\n",
    "plt.show()"
   ]
  },
  {
   "cell_type": "markdown",
   "metadata": {},
   "source": [
    "Above graph shows the statestical report of the Sales through newspaper advertising.\n",
    "conclusion : We could see that the sales of an product through newspaper is significant."
   ]
  },
  {
   "cell_type": "code",
   "execution_count": 104,
   "metadata": {},
   "outputs": [
    {
     "data": {
      "image/png": "[encoded data removed]",
      "text/plain": [
       "<Figure size 432x288 with 1 Axes>"
      ]
     },
     "metadata": {
      "needs_background": "light"
     },
     "output_type": "display_data"
    }
   ],
   "source": [
    "plt.bar(df['sales'], df['radio'])\n",
    "plt.xlabel('sales')\n",
    "plt.ylabel('radio')\n",
    "plt.show()"
   ]
  },
  {
   "cell_type": "code",
   "execution_count": 105,
   "metadata": {},
   "outputs": [
    {
     "data": {
      "image/png": "[encoded data removed]",
      "text/plain": [
       "<Figure size 432x288 with 1 Axes>"
      ]
     },
     "metadata": {
      "needs_background": "light"
     },
     "output_type": "display_data"
    }
   ],
   "source": [
    "plt.bar(df['sales'], df['TV'])\n",
    "plt.xlabel('sales')\n",
    "plt.ylabel('TV')\n",
    "plt.show()"
   ]
  },
  {
   "cell_type": "code",
   "execution_count": 106,
   "metadata": {},
   "outputs": [
    {
     "data": {
      "text/plain": [
       "<seaborn.axisgrid.PairGrid at 0x14bc026b070>"
      ]
     },
     "execution_count": 106,
     "metadata": {},
     "output_type": "execute_result"
    },
    {
     "data": {
      "image/png": "[encoded data removed]",
      "text/plain": [
       "<Figure size 720x720 with 20 Axes>"
      ]
     },
     "metadata": {
      "needs_background": "light"
     },
     "output_type": "display_data"
    }
   ],
   "source": [
    "sns.pairplot(df)"
   ]
  },
  {
   "cell_type": "markdown",
   "metadata": {},
   "source": [
    "We could see the positive relationship with all the media against the sales figures.\n",
    "\n",
    "However the linear relationship of sales vs TV is more precise. Hence we can conclude that the TV will be right channel for marketing."
   ]
  },
  {
   "cell_type": "code",
   "execution_count": 107,
   "metadata": {},
   "outputs": [
    {
     "data": {
      "text/plain": [
       "array([[9.69852266e-01, 9.81522472e-01, 1.77894547e+00, 1.55205313e+00],\n",
       "       [1.19737623e+00, 1.08280781e+00, 6.69578760e-01, 6.96046111e-01],\n",
       "       [1.51615499e+00, 1.52846331e+00, 1.78354865e+00, 9.07405869e-01],\n",
       "       [5.20496822e-02, 1.21785493e+00, 1.28640506e+00, 8.60330287e-01],\n",
       "       [3.94182198e-01, 8.41613655e-01, 1.28180188e+00, 2.15683025e-01],\n",
       "       [1.61540845e+00, 1.73103399e+00, 2.04592999e+00, 1.31091086e+00],\n",
       "       [1.04557682e+00, 6.43904671e-01, 3.24708413e-01, 4.27042783e-01],\n",
       "       [3.13436589e-01, 2.47406325e-01, 8.72486994e-01, 1.58039455e-01],\n",
       "       [1.61657614e+00, 1.42906863e+00, 1.36042422e+00, 1.77205942e+00],\n",
       "       [6.16042873e-01, 1.39530685e+00, 4.30581584e-01, 6.57617064e-01],\n",
       "       [9.45155670e-01, 1.17923146e+00, 2.92486143e-01, 1.04190753e+00],\n",
       "       [7.90028350e-01, 4.96973404e-02, 1.22232878e+00, 6.48970529e-01],\n",
       "       [1.43908760e+00, 7.99208859e-01, 1.62704048e+00, 9.26620392e-01],\n",
       "       [5.78501712e-01, 1.05768905e+00, 1.07502697e+00, 8.30547775e-01],\n",
       "       [6.66253447e-01, 6.50657027e-01, 7.11007392e-01, 9.56402904e-01],\n",
       "       [5.64664612e-01, 1.65000572e+00, 1.02862691e+00, 1.60969670e+00],\n",
       "       [9.25304978e-01, 9.00494200e-01, 3.84117072e+00, 2.92541119e-01],\n",
       "       [1.56887609e+00, 1.10306488e+00, 1.16211917e+00, 1.99398717e+00],\n",
       "       [9.08957349e-01, 1.86635121e-01, 5.64073843e-01, 5.23115400e-01],\n",
       "       [3.00679600e-03, 4.29449843e-02, 5.27248393e-01, 1.10963873e-01],\n",
       "       [8.33232798e-01, 2.99534513e-01, 1.05164281e+00, 7.64257669e-01],\n",
       "       [1.05509347e+00, 1.22649795e+00, 3.24708413e-01, 2.92541119e-01],\n",
       "       [1.56286250e+00, 4.97243498e-01, 8.76721921e-01, 1.61834324e+00],\n",
       "       [9.48833887e-01, 4.29719938e-01, 2.00422516e-01, 2.83894584e-01],\n",
       "       [9.89527805e-01, 7.20071247e-01, 5.64073843e-01, 8.30547775e-01],\n",
       "       [1.35285385e+00, 1.33453565e+00, 5.08835667e-01, 3.88613736e-01],\n",
       "       [4.83714657e-02, 4.07572210e-01, 8.26455181e-01, 1.87821967e-01],\n",
       "       [1.08662104e+00, 4.43224650e-01, 3.52327501e-01, 3.60752677e-01],\n",
       "       [1.18820988e+00, 2.59020377e-01, 3.52327501e-01, 9.37188380e-01],\n",
       "       [8.92609721e-01, 4.90491142e-01, 4.71641962e-01, 6.76831588e-01],\n",
       "       [1.70316018e+00, 3.40048650e-01, 5.82118314e-01, 1.41755147e+00],\n",
       "       [3.98677796e-01, 3.95958157e-01, 3.70371972e-01, 4.07828260e-01],\n",
       "       [5.82004775e-01, 1.46958277e+00, 2.55016247e-02, 8.49762299e-01],\n",
       "       [1.38438142e+00, 2.20396901e-01, 1.39264649e+00, 6.48970529e-01],\n",
       "       [5.99520091e-01, 1.47633512e+00, 1.06582061e+00, 8.68976822e-01],\n",
       "       [1.67747105e+00, 1.29402151e+00, 1.01518562e+00, 2.34897549e-01],\n",
       "       [1.39956136e+00, 1.38666383e+00, 1.17629696e+00, 2.18613240e+00],\n",
       "       [8.44734522e-01, 1.76479577e+00, 6.97197848e-01, 1.30178396e-01],\n",
       "       [1.21372386e+00, 2.32010953e-01, 2.09260624e-01, 7.53689682e-01],\n",
       "       [9.45330823e-01, 9.74770116e-01, 6.65620024e-02, 1.43676599e+00],\n",
       "       [6.47570443e-01, 6.50927121e-02, 4.81492770e-02, 4.95254341e-01],\n",
       "       [3.49810063e-01, 6.84418807e-01, 3.74975153e-01, 5.91326959e-01],\n",
       "       [1.71133400e+00, 2.99534513e-01, 1.32359877e+00, 1.28304980e+00],\n",
       "       [6.98948705e-01, 1.00367020e+00, 1.91216154e-01, 2.15683025e-01],\n",
       "       [1.42390765e+00, 1.64487393e-01, 5.86721496e-01, 1.06112206e+00],\n",
       "       [3.27623995e-01, 5.15880000e-02, 4.35460956e-02, 1.68607443e-01],\n",
       "       [6.69581357e-01, 9.02384859e-01, 2.36879713e-01, 6.57617064e-01],\n",
       "       [1.08428567e+00, 1.23135965e+00, 5.54867481e-01, 1.76341289e+00],\n",
       "       [9.35989321e-01, 5.03995854e-01, 8.90531465e-01, 1.49392920e-01],\n",
       "       [9.35814168e-01, 7.80842451e-01, 2.87514708e-01, 8.30547775e-01],\n",
       "       [6.16042873e-01, 1.36154507e+00, 1.86244718e-01, 5.03900877e-01],\n",
       "       [5.44638766e-01, 9.22641928e-01, 1.24074150e+00, 6.38402541e-01],\n",
       "       [8.09879042e-01, 1.24486436e+00, 4.16403786e-01, 1.64812575e+00],\n",
       "       [4.15200577e-01, 1.54872038e+00, 1.29561142e+00, 1.37912242e+00],\n",
       "       [1.35051848e+00, 3.73810430e-01, 6.74550196e-01, 1.18697718e+00],\n",
       "       [6.05533683e-01, 1.76479577e+00, 1.35545278e+00, 1.85948550e+00],\n",
       "       [1.63175608e+00, 3.26543937e-01, 4.99261050e-01, 1.63755776e+00],\n",
       "       [1.26606546e-01, 2.74415749e-01, 6.42327927e-01, 1.58039455e-01],\n",
       "       [7.44488528e-01, 1.77830048e+00, 3.28943340e-01, 1.87870003e+00],\n",
       "       [7.43320840e-01, 4.21076922e-01, 9.78360166e-01, 8.41115763e-01],\n",
       "       [1.09228433e+00, 1.43582099e+00, 4.21375221e-01, 1.13798015e+00],\n",
       "       [1.33417085e+00, 1.31238792e+00, 1.11148417e+00, 1.95555812e+00],\n",
       "       [1.07727954e+00, 5.24252922e-01, 1.49787521e-01, 3.22323631e-01],\n",
       "       [5.17781948e-01, 4.27829278e-01, 1.01978880e+00, 4.32326777e-03],\n",
       "       [1.86158622e-01, 1.31914027e+00, 7.61366196e-02, 7.64257669e-01],\n",
       "       [9.11292725e-01, 9.42898996e-01, 1.36502740e+00, 9.07405869e-01],\n",
       "       [1.34917564e+00, 9.02114765e-02, 1.30518604e+00, 8.68976822e-01],\n",
       "       [9.04082253e-02, 5.91776482e-01, 9.36931533e-01, 1.19610408e-01],\n",
       "       [1.05509347e+00, 2.86029801e-01, 9.00106083e-01, 9.37188380e-01],\n",
       "       [8.14549794e-01, 1.39341619e+00, 1.54390703e-01, 1.59048218e+00],\n",
       "       [6.07869059e-01, 4.95352838e-01, 3.74975153e-01, 8.21901240e-01],\n",
       "       [4.34876116e-01, 6.05281194e-01, 5.27524584e-02, 3.11755643e-01],\n",
       "       [1.40405696e+00, 6.57409383e-01, 5.18042030e-01, 1.00347849e+00],\n",
       "       [2.06009314e-01, 1.18598381e+00, 3.43397329e-02, 5.80758971e-01],\n",
       "       [7.74848409e-01, 9.02114765e-02, 8.03439274e-01, 5.72112435e-01],\n",
       "       [1.51965805e+00, 1.37991148e+00, 2.70878810e+00, 1.02269301e+00],\n",
       "       [1.39588315e+00, 1.46283041e+00, 4.53597491e-01, 1.36855443e+00],\n",
       "       [3.09933525e-01, 3.53553362e-01, 7.52804279e-01, 3.41057791e-02],\n",
       "       [1.65394214e+00, 4.48086346e-01, 9.73756984e-01, 1.67598681e+00],\n",
       "       [3.62479475e-01, 1.05093669e+00, 3.43121138e-01, 5.80758971e-01],\n",
       "       [8.24883830e-01, 2.32010953e-01, 3.79946589e-01, 4.27042783e-01],\n",
       "       [1.08311798e+00, 1.29402151e+00, 2.92117889e-01, 3.30970166e-01],\n",
       "       [8.37728396e-01, 2.00139833e-01, 8.95779092e-02, 5.23115400e-01],\n",
       "       [9.18298852e-01, 1.43393033e+00, 2.32276531e-01, 8.11813615e-02],\n",
       "       [7.76016097e-01, 1.33264499e+00, 1.49419267e-01, 1.47519504e+00],\n",
       "       [5.38975481e-01, 3.28434597e-01, 1.61783412e+00, 2.26251013e-01],\n",
       "       [8.26051518e-01, 2.86029801e-01, 6.69947015e-01, 3.88613736e-01],\n",
       "       [4.24366926e-01, 1.17058844e+00, 1.50275459e+00, 3.79967201e-01],\n",
       "       [6.85928986e-01, 1.50982681e-01, 1.97227908e+00, 2.15683025e-01],\n",
       "       [4.34876116e-01, 1.65675807e+00, 9.59579186e-01, 5.14468865e-01],\n",
       "       [1.48792614e-01, 1.24000266e+00, 9.78360166e-01, 5.42329924e-01],\n",
       "       [1.38303858e+00, 1.46958277e+00, 1.12593816e-01, 1.29169634e+00],\n",
       "       [8.25058983e-01, 6.91171163e-01, 1.30942097e+00, 1.03326100e+00],\n",
       "       [1.21273132e+00, 8.93741844e-01, 1.92164409e+00, 1.57126765e+00],\n",
       "       [4.62900623e-01, 6.25538262e-01, 9.04709264e-01, 4.84686354e-01],\n",
       "       [1.89836839e-01, 5.62876398e-01, 1.02862691e+00, 5.52897912e-01],\n",
       "       [5.90353742e-01, 1.33453565e+00, 1.13486833e+00, 4.46257307e-01],\n",
       "       [4.42057396e-01, 1.52873340e-01, 3.93756133e-01, 2.83894584e-01],\n",
       "       [1.66579418e+00, 1.28537849e+00, 9.50372823e-01, 2.18613240e+00],\n",
       "       [1.38283424e-01, 1.24486436e+00, 7.06404211e-01, 6.10541482e-01],\n",
       "       [8.79940308e-01, 1.28051680e+00, 8.85928284e-01, 4.46257307e-01],\n",
       "       [1.74402926e+00, 8.80237132e-01, 3.23815396e+00, 1.87870003e+00],\n",
       "       [1.55486384e+00, 8.88880147e-01, 4.21375221e-01, 1.49392920e-01],\n",
       "       [4.77088029e-01, 4.09462869e-01, 5.82486569e-01, 1.30178396e-01],\n",
       "       [1.06443498e+00, 7.45190011e-01, 1.16248742e+00, 1.28304980e+00],\n",
       "       [1.06755854e-01, 1.56222509e+00, 1.30942097e+00, 9.94831951e-01],\n",
       "       [1.42507534e+00, 8.28108943e-01, 3.93111688e-02, 1.31091086e+00],\n",
       "       [6.61407543e-01, 1.55061104e+00, 3.38517957e-01, 1.02269301e+00],\n",
       "       [1.56403019e+00, 1.54385868e+00, 2.28041604e-01, 1.67598681e+00],\n",
       "       [1.26527727e+00, 2.45515665e-01, 1.15328106e+00, 1.11011909e+00],\n",
       "       [9.19641692e-01, 1.01717491e+00, 1.19434143e+00, 1.19610408e-01],\n",
       "       [1.10530405e+00, 9.95027184e-01, 3.38517957e-01, 1.49440956e+00],\n",
       "       [3.34630122e-01, 5.31005278e-01, 1.29597968e+00, 1.48912557e-02],\n",
       "       [7.30476274e-01, 1.79882765e-01, 9.13915627e-01, 3.60752677e-01],\n",
       "       [8.03865450e-01, 1.58923451e+00, 1.81641536e-01, 1.10963873e-01],\n",
       "       [8.40063771e-01, 7.92456503e-01, 1.01942054e+00, 2.73326596e-01],\n",
       "       [9.15759131e-02, 6.05281194e-01, 2.28041604e-01, 3.50184689e-01],\n",
       "       [8.24883830e-01, 1.51684926e+00, 7.25185191e-01, 8.88191346e-01],\n",
       "       [2.49213762e-01, 9.20751268e-01, 2.23926360e+00, 3.60752677e-01],\n",
       "       [1.49046586e+00, 4.90491142e-01, 3.79946589e-01, 1.42619800e+00],\n",
       "       [6.70544700e-02, 2.38763309e-01, 7.20213755e-01, 2.83894584e-01],\n",
       "       [1.49747198e+00, 1.05606848e-01, 9.13547372e-01, 1.34933991e+00],\n",
       "       [8.98623313e-01, 1.40881156e+00, 6.88359740e-01, 4.65471830e-01],\n",
       "       [2.79573643e-01, 7.65447079e-01, 8.35661544e-01, 2.26251013e-01],\n",
       "       [9.62846140e-01, 6.10142891e-01, 2.00910454e+00, 1.09090457e+00],\n",
       "       [6.98773552e-01, 7.74090095e-01, 2.14232060e-01, 6.57617064e-01],\n",
       "       [1.62591764e+00, 1.05579839e+00, 9.22753735e-01, 1.42619800e+00],\n",
       "       [7.80511695e-01, 1.57086811e+00, 9.82963347e-01, 1.00347849e+00],\n",
       "       [8.55418865e-01, 1.73778635e+00, 1.25915423e+00, 2.05163074e+00],\n",
       "       [1.02105537e+00, 7.60585383e-01, 5.77515133e-01, 8.30547775e-01],\n",
       "       [1.70882347e+00, 1.10306488e+00, 1.00597925e+00, 2.38692417e+00],\n",
       "       [1.37971067e+00, 1.37504978e+00, 5.72911952e-01, 2.54112072e-01],\n",
       "       [1.61891151e+00, 2.65772733e-01, 1.30978922e+00, 1.59912871e+00],\n",
       "       [8.49580427e-01, 6.91171163e-01, 6.69578760e-01, 1.07169004e+00],\n",
       "       [1.28612050e+00, 1.03554132e+00, 1.61323094e+00, 6.19188018e-01],\n",
       "       [1.15300409e+00, 1.60273923e+00, 1.01518562e+00, 4.65471830e-01],\n",
       "       [1.41806922e+00, 1.06255074e+00, 9.78360166e-01, 8.68976822e-01],\n",
       "       [1.47896413e+00, 3.80562786e-01, 1.34164324e+00, 1.30226433e+00],\n",
       "       [1.21489154e+00, 1.77992105e-01, 4.62803854e-01, 8.49762299e-01],\n",
       "       [4.42057396e-01, 1.39341619e+00, 1.32820195e+00, 1.28304980e+00],\n",
       "       [8.59914463e-01, 4.22967582e-01, 8.12645637e-01, 5.99973494e-01],\n",
       "       [5.44813920e-01, 8.19465927e-01, 2.07354907e+00, 9.94831951e-01],\n",
       "       [8.57754241e-01, 6.70914095e-01, 3.38149702e-01, 1.16776266e+00],\n",
       "       [4.95595880e-01, 1.18598381e+00, 1.77038355e-01, 6.96046111e-01],\n",
       "       [5.93681653e-01, 5.71519414e-01, 3.84181516e-01, 5.03900877e-01],\n",
       "       [7.87313476e-02, 1.44257334e+00, 9.92169710e-01, 7.15260635e-01],\n",
       "       [1.08662104e+00, 1.07794612e+00, 1.00597925e+00, 1.58039455e-01],\n",
       "       [1.12281936e+00, 1.73778635e+00, 6.32753309e-01, 2.18613240e+00],\n",
       "       [1.27327593e+00, 1.15033137e+00, 8.58677450e-01, 5.99973494e-01],\n",
       "       [1.19504085e+00, 1.71239749e-01, 4.58200672e-01, 7.53689682e-01],\n",
       "       [1.56070228e+00, 6.32290618e-01, 2.96721070e-01, 3.99181724e-01],\n",
       "       [3.04095087e-01, 1.00367020e+00, 8.35293289e-01, 4.65471830e-01],\n",
       "       [5.90353742e-01, 2.43084817e-03, 7.52804279e-01, 4.95254341e-01],\n",
       "       [2.83251860e-01, 1.10981724e+00, 3.28943340e-01, 9.56402904e-01],\n",
       "       [4.75920341e-01, 1.46120984e-01, 9.69153803e-01, 3.03109107e-01],\n",
       "       [1.66912209e+00, 7.87594807e-01, 1.14407469e+00, 2.07949180e+00],\n",
       "       [6.20538471e-01, 1.36640677e+00, 9.18150553e-01, 2.45465537e-01],\n",
       "       [3.21989902e-02, 1.48308748e+00, 2.87882962e-01, 7.53689682e-01],\n",
       "       [1.58037782e+00, 9.20751268e-01, 6.74181942e-01, 1.29169634e+00],\n",
       "       [1.79152496e-01, 3.28434597e-01, 1.86244718e-01, 2.15683025e-01],\n",
       "       [2.97264113e-01, 3.48691665e-01, 6.72064478e-03, 7.25348259e-02],\n",
       "       [7.16288868e-01, 8.46475352e-01, 8.62912377e-01, 1.38824932e-01],\n",
       "       [4.82926468e-01, 3.48691665e-01, 2.28041604e-01, 1.68607443e-01],\n",
       "       [1.92172214e-01, 9.13998912e-01, 1.06582061e+00, 7.64257669e-01],\n",
       "       [3.48467222e-01, 5.78271770e-01, 1.15788424e+00, 4.07828260e-01],\n",
       "       [1.02123053e+00, 1.34128800e+00, 2.49704176e+00, 4.07828260e-01],\n",
       "       [1.50798117e+00, 9.68017760e-01, 4.12168859e-01, 1.15719467e+00],\n",
       "       [6.97781017e-01, 1.21974559e+00, 5.13438849e-01, 3.50184689e-01],\n",
       "       [7.98202165e-01, 2.26879163e-02, 1.24497643e+00, 5.91326959e-01],\n",
       "       [1.60273904e+00, 8.55118367e-01, 1.11185242e+00, 1.87821967e-01],\n",
       "       [1.13315340e+00, 7.87594807e-01, 5.59470662e-01, 1.08033658e+00],\n",
       "       [2.03849092e-01, 1.59625696e-01, 7.75451931e-01, 9.17493494e-02],\n",
       "       [1.48813048e+00, 2.13644545e-01, 6.23915201e-01, 1.23405277e+00],\n",
       "       [2.49388915e-01, 1.09145083e+00, 8.17248818e-01, 4.46257307e-01],\n",
       "       [8.79940308e-01, 1.34128800e+00, 8.03439274e-01, 4.84686354e-01],\n",
       "       [1.51633014e+00, 1.73103399e+00, 5.17673775e-01, 2.49356478e+00],\n",
       "       [1.18353913e+00, 4.68343414e-01, 4.72010216e-01, 1.18697718e+00],\n",
       "       [2.70407294e-01, 1.04418434e+00, 2.13863806e-01, 4.46257307e-01],\n",
       "       [1.51399477e+00, 1.41556392e+00, 3.15502050e-01, 4.27042783e-01],\n",
       "       [2.16693657e-01, 8.95632503e-01, 5.96296113e-01, 2.73326596e-01],\n",
       "       [1.11601758e-01, 1.39530685e+00, 1.02439198e+00, 6.76831588e-01],\n",
       "       [8.34400486e-01, 1.20624088e+00, 1.45184340e-01, 3.50184689e-01],\n",
       "       [1.06075676e+00, 1.18598381e+00, 3.93111688e-02, 1.02269301e+00],\n",
       "       [1.64127273e+00, 1.33264499e+00, 1.89862818e+00, 2.33984859e+00],\n",
       "       [1.24659427e+00, 1.32616272e-01, 2.55016247e-02, 6.87399576e-01],\n",
       "       [6.76762637e-01, 1.47444446e+00, 5.04232486e-01, 1.64812575e+00],\n",
       "       [8.80728498e-02, 1.42906863e+00, 1.82009791e-01, 7.15260635e-01],\n",
       "       [5.14454038e-01, 3.67058074e-01, 5.68677025e-01, 6.29756005e-01],\n",
       "       [1.62258973e+00, 6.32290618e-01, 1.23613832e+00, 3.60752677e-01],\n",
       "       [1.49863967e+00, 7.53833027e-01, 3.29311594e-01, 1.40698348e+00],\n",
       "       [1.25576062e+00, 1.20435022e+00, 1.13947151e+00, 6.19188018e-01],\n",
       "       [8.35393020e-01, 8.41613655e-01, 1.13026515e+00, 7.92118728e-01],\n",
       "       [1.51615499e+00, 1.29402151e+00, 4.81492770e-02, 1.56069967e+00],\n",
       "       [2.30705910e-01, 1.26512143e+00, 1.24074150e+00, 1.07169004e+00],\n",
       "       [3.10313024e-02, 8.32970639e-01, 1.13026515e+00, 6.29756005e-01],\n",
       "       [1.27094056e+00, 1.32103093e+00, 7.71217005e-01, 1.23405277e+00],\n",
       "       [6.17035408e-01, 1.24000266e+00, 1.03359834e+00, 8.30547775e-01],\n",
       "       [3.49810063e-01, 9.42898996e-01, 1.11185242e+00, 2.34897549e-01],\n",
       "       [1.59456522e+00, 1.26512143e+00, 1.64085003e+00, 2.20534693e+00],\n",
       "       [9.93206022e-01, 9.90165488e-01, 1.00597925e+00, 1.19610408e-01]])"
      ]
     },
     "execution_count": 107,
     "metadata": {},
     "output_type": "execute_result"
    }
   ],
   "source": [
    "from scipy.stats import zscore\n",
    "z=np.abs(zscore(df))\n",
    "z"
   ]
  },
  {
   "cell_type": "code",
   "execution_count": 108,
   "metadata": {},
   "outputs": [
    {
     "data": {
      "text/plain": [
       "TV          -0.069853\n",
       "radio        0.094175\n",
       "newspaper    0.894720\n",
       "sales        0.407571\n",
       "dtype: float64"
      ]
     },
     "execution_count": 108,
     "metadata": {},
     "output_type": "execute_result"
    }
   ],
   "source": [
    "df.skew()"
   ]
  },
  {
   "cell_type": "markdown",
   "metadata": {},
   "source": [
    "Skewness +/-0.65 is acceptable \n",
    "Here we could see the skewness in Newspaper column."
   ]
  },
  {
   "cell_type": "code",
   "execution_count": 109,
   "metadata": {},
   "outputs": [
    {
     "data": {
      "text/plain": [
       "<seaborn.axisgrid.FacetGrid at 0x14bc3e23400>"
      ]
     },
     "execution_count": 109,
     "metadata": {},
     "output_type": "execute_result"
    },
    {
     "data": {
      "image/png": "[encoded data removed]",
      "text/plain": [
       "<Figure size 360x360 with 1 Axes>"
      ]
     },
     "metadata": {
      "needs_background": "light"
     },
     "output_type": "display_data"
    }
   ],
   "source": [
    "sns.displot(df[\"newspaper\"])        # Normal distribution curve, here we could see that the date is not normally distributed."
   ]
  },
  {
   "cell_type": "code",
   "execution_count": 110,
   "metadata": {},
   "outputs": [
    {
     "data": {
      "text/plain": [
       "<seaborn.axisgrid.FacetGrid at 0x14bc2c14f40>"
      ]
     },
     "execution_count": 110,
     "metadata": {},
     "output_type": "execute_result"
    },
    {
     "data": {
      "image/png": "[encoded data removed]",
      "text/plain": [
       "<Figure size 360x360 with 1 Axes>"
      ]
     },
     "metadata": {
      "needs_background": "light"
     },
     "output_type": "display_data"
    }
   ],
   "source": [
    "sns.displot(df[\"TV\"])       # here data is normally distributed."
   ]
  },
  {
   "cell_type": "code",
   "execution_count": 111,
   "metadata": {},
   "outputs": [
    {
     "data": {
      "text/plain": [
       "<seaborn.axisgrid.FacetGrid at 0x14bc2ca28b0>"
      ]
     },
     "execution_count": 111,
     "metadata": {},
     "output_type": "execute_result"
    },
    {
     "data": {
      "image/png": "[encoded data removed]",
      "text/plain": [
       "<Figure size 360x360 with 1 Axes>"
      ]
     },
     "metadata": {
      "needs_background": "light"
     },
     "output_type": "display_data"
    }
   ],
   "source": [
    "sns.displot(df[\"radio\"])    # here data is normally distributed"
   ]
  },
  {
   "cell_type": "markdown",
   "metadata": {},
   "source": [
    "Observations - from skewness and outliers we can see that the Newspaper contains both.\n",
    "Hence we can drop the column of Newspaper\n",
    "Here we will be lossing 25% of data if we remove the newspaper data or column which will impact our model and prediction further hence we will not drop the column."
   ]
  },
  {
   "cell_type": "code",
   "execution_count": 112,
   "metadata": {},
   "outputs": [
    {
     "name": "stdout",
     "output_type": "stream",
     "text": [
      "(array([  5,  16,  36,  75,  98, 101, 118, 124, 128, 130, 141, 147, 155,\n",
      "       165, 175, 183, 198], dtype=int64), array([2, 2, 3, 2, 3, 2, 2, 2, 3, 3, 2, 3, 3, 2, 3, 3, 3], dtype=int64))\n"
     ]
    }
   ],
   "source": [
    "threshold=2\n",
    "print(np.where(z>2))"
   ]
  },
  {
   "cell_type": "code",
   "execution_count": 113,
   "metadata": {},
   "outputs": [
    {
     "data": {
      "text/plain": [
       "2.045929985898692"
      ]
     },
     "execution_count": 113,
     "metadata": {},
     "output_type": "execute_result"
    }
   ],
   "source": [
    "z[5] [2]"
   ]
  },
  {
   "cell_type": "code",
   "execution_count": 114,
   "metadata": {},
   "outputs": [
    {
     "data": {
      "text/plain": [
       "2.186132403173361"
      ]
     },
     "execution_count": 114,
     "metadata": {},
     "output_type": "execute_result"
    }
   ],
   "source": [
    "z[36] [3]"
   ]
  },
  {
   "cell_type": "code",
   "execution_count": 115,
   "metadata": {},
   "outputs": [
    {
     "data": {
      "text/plain": [
       "(200, 4)"
      ]
     },
     "execution_count": 115,
     "metadata": {},
     "output_type": "execute_result"
    }
   ],
   "source": [
    "df.shape"
   ]
  },
  {
   "cell_type": "code",
   "execution_count": 120,
   "metadata": {},
   "outputs": [
    {
     "data": {
      "text/html": [
       "<div>\n",
       "<style scoped>\n",
       "    .dataframe tbody tr th:only-of-type {\n",
       "        vertical-align: middle;\n",
       "    }\n",
       "\n",
       "    .dataframe tbody tr th {\n",
       "        vertical-align: top;\n",
       "    }\n",
       "\n",
       "    .dataframe thead th {\n",
       "        text-align: right;\n",
       "    }\n",
       "</style>\n",
       "<table border=\"1\" class=\"dataframe\">\n",
       "  <thead>\n",
       "    <tr style=\"text-align: right;\">\n",
       "      <th></th>\n",
       "      <th>TV</th>\n",
       "      <th>radio</th>\n",
       "      <th>newspaper</th>\n",
       "      <th>sales</th>\n",
       "    </tr>\n",
       "  </thead>\n",
       "  <tbody>\n",
       "    <tr>\n",
       "      <th>0</th>\n",
       "      <td>230.1</td>\n",
       "      <td>37.8</td>\n",
       "      <td>69.2</td>\n",
       "      <td>22.1</td>\n",
       "    </tr>\n",
       "    <tr>\n",
       "      <th>1</th>\n",
       "      <td>44.5</td>\n",
       "      <td>39.3</td>\n",
       "      <td>45.1</td>\n",
       "      <td>10.4</td>\n",
       "    </tr>\n",
       "    <tr>\n",
       "      <th>2</th>\n",
       "      <td>17.2</td>\n",
       "      <td>45.9</td>\n",
       "      <td>69.3</td>\n",
       "      <td>9.3</td>\n",
       "    </tr>\n",
       "    <tr>\n",
       "      <th>3</th>\n",
       "      <td>151.5</td>\n",
       "      <td>41.3</td>\n",
       "      <td>58.5</td>\n",
       "      <td>18.5</td>\n",
       "    </tr>\n",
       "    <tr>\n",
       "      <th>4</th>\n",
       "      <td>180.8</td>\n",
       "      <td>10.8</td>\n",
       "      <td>58.4</td>\n",
       "      <td>12.9</td>\n",
       "    </tr>\n",
       "    <tr>\n",
       "      <th>...</th>\n",
       "      <td>...</td>\n",
       "      <td>...</td>\n",
       "      <td>...</td>\n",
       "      <td>...</td>\n",
       "    </tr>\n",
       "    <tr>\n",
       "      <th>195</th>\n",
       "      <td>38.2</td>\n",
       "      <td>3.7</td>\n",
       "      <td>13.8</td>\n",
       "      <td>7.6</td>\n",
       "    </tr>\n",
       "    <tr>\n",
       "      <th>196</th>\n",
       "      <td>94.2</td>\n",
       "      <td>4.9</td>\n",
       "      <td>8.1</td>\n",
       "      <td>9.7</td>\n",
       "    </tr>\n",
       "    <tr>\n",
       "      <th>197</th>\n",
       "      <td>177.0</td>\n",
       "      <td>9.3</td>\n",
       "      <td>6.4</td>\n",
       "      <td>12.8</td>\n",
       "    </tr>\n",
       "    <tr>\n",
       "      <th>198</th>\n",
       "      <td>283.6</td>\n",
       "      <td>42.0</td>\n",
       "      <td>66.2</td>\n",
       "      <td>25.5</td>\n",
       "    </tr>\n",
       "    <tr>\n",
       "      <th>199</th>\n",
       "      <td>232.1</td>\n",
       "      <td>8.6</td>\n",
       "      <td>8.7</td>\n",
       "      <td>13.4</td>\n",
       "    </tr>\n",
       "  </tbody>\n",
       "</table>\n",
       "<p>200 rows × 4 columns</p>\n",
       "</div>"
      ],
      "text/plain": [
       "        TV  radio  newspaper  sales\n",
       "0    230.1   37.8       69.2   22.1\n",
       "1     44.5   39.3       45.1   10.4\n",
       "2     17.2   45.9       69.3    9.3\n",
       "3    151.5   41.3       58.5   18.5\n",
       "4    180.8   10.8       58.4   12.9\n",
       "..     ...    ...        ...    ...\n",
       "195   38.2    3.7       13.8    7.6\n",
       "196   94.2    4.9        8.1    9.7\n",
       "197  177.0    9.3        6.4   12.8\n",
       "198  283.6   42.0       66.2   25.5\n",
       "199  232.1    8.6        8.7   13.4\n",
       "\n",
       "[200 rows x 4 columns]"
      ]
     },
     "execution_count": 120,
     "metadata": {},
     "output_type": "execute_result"
    }
   ],
   "source": [
    "df"
   ]
  },
  {
   "cell_type": "code",
   "execution_count": 122,
   "metadata": {},
   "outputs": [],
   "source": [
    "x=df.iloc[:,:-1]\n",
    "y=df.iloc[:,-1]"
   ]
  },
  {
   "cell_type": "code",
   "execution_count": 123,
   "metadata": {},
   "outputs": [
    {
     "data": {
      "text/html": [
       "<div>\n",
       "<style scoped>\n",
       "    .dataframe tbody tr th:only-of-type {\n",
       "        vertical-align: middle;\n",
       "    }\n",
       "\n",
       "    .dataframe tbody tr th {\n",
       "        vertical-align: top;\n",
       "    }\n",
       "\n",
       "    .dataframe thead th {\n",
       "        text-align: right;\n",
       "    }\n",
       "</style>\n",
       "<table border=\"1\" class=\"dataframe\">\n",
       "  <thead>\n",
       "    <tr style=\"text-align: right;\">\n",
       "      <th></th>\n",
       "      <th>TV</th>\n",
       "      <th>radio</th>\n",
       "      <th>newspaper</th>\n",
       "    </tr>\n",
       "  </thead>\n",
       "  <tbody>\n",
       "    <tr>\n",
       "      <th>0</th>\n",
       "      <td>230.1</td>\n",
       "      <td>37.8</td>\n",
       "      <td>69.2</td>\n",
       "    </tr>\n",
       "    <tr>\n",
       "      <th>1</th>\n",
       "      <td>44.5</td>\n",
       "      <td>39.3</td>\n",
       "      <td>45.1</td>\n",
       "    </tr>\n",
       "    <tr>\n",
       "      <th>2</th>\n",
       "      <td>17.2</td>\n",
       "      <td>45.9</td>\n",
       "      <td>69.3</td>\n",
       "    </tr>\n",
       "    <tr>\n",
       "      <th>3</th>\n",
       "      <td>151.5</td>\n",
       "      <td>41.3</td>\n",
       "      <td>58.5</td>\n",
       "    </tr>\n",
       "    <tr>\n",
       "      <th>4</th>\n",
       "      <td>180.8</td>\n",
       "      <td>10.8</td>\n",
       "      <td>58.4</td>\n",
       "    </tr>\n",
       "    <tr>\n",
       "      <th>...</th>\n",
       "      <td>...</td>\n",
       "      <td>...</td>\n",
       "      <td>...</td>\n",
       "    </tr>\n",
       "    <tr>\n",
       "      <th>195</th>\n",
       "      <td>38.2</td>\n",
       "      <td>3.7</td>\n",
       "      <td>13.8</td>\n",
       "    </tr>\n",
       "    <tr>\n",
       "      <th>196</th>\n",
       "      <td>94.2</td>\n",
       "      <td>4.9</td>\n",
       "      <td>8.1</td>\n",
       "    </tr>\n",
       "    <tr>\n",
       "      <th>197</th>\n",
       "      <td>177.0</td>\n",
       "      <td>9.3</td>\n",
       "      <td>6.4</td>\n",
       "    </tr>\n",
       "    <tr>\n",
       "      <th>198</th>\n",
       "      <td>283.6</td>\n",
       "      <td>42.0</td>\n",
       "      <td>66.2</td>\n",
       "    </tr>\n",
       "    <tr>\n",
       "      <th>199</th>\n",
       "      <td>232.1</td>\n",
       "      <td>8.6</td>\n",
       "      <td>8.7</td>\n",
       "    </tr>\n",
       "  </tbody>\n",
       "</table>\n",
       "<p>200 rows × 3 columns</p>\n",
       "</div>"
      ],
      "text/plain": [
       "        TV  radio  newspaper\n",
       "0    230.1   37.8       69.2\n",
       "1     44.5   39.3       45.1\n",
       "2     17.2   45.9       69.3\n",
       "3    151.5   41.3       58.5\n",
       "4    180.8   10.8       58.4\n",
       "..     ...    ...        ...\n",
       "195   38.2    3.7       13.8\n",
       "196   94.2    4.9        8.1\n",
       "197  177.0    9.3        6.4\n",
       "198  283.6   42.0       66.2\n",
       "199  232.1    8.6        8.7\n",
       "\n",
       "[200 rows x 3 columns]"
      ]
     },
     "execution_count": 123,
     "metadata": {},
     "output_type": "execute_result"
    }
   ],
   "source": [
    "x"
   ]
  },
  {
   "cell_type": "code",
   "execution_count": 124,
   "metadata": {},
   "outputs": [
    {
     "data": {
      "text/plain": [
       "0      22.1\n",
       "1      10.4\n",
       "2       9.3\n",
       "3      18.5\n",
       "4      12.9\n",
       "       ... \n",
       "195     7.6\n",
       "196     9.7\n",
       "197    12.8\n",
       "198    25.5\n",
       "199    13.4\n",
       "Name: sales, Length: 200, dtype: float64"
      ]
     },
     "execution_count": 124,
     "metadata": {},
     "output_type": "execute_result"
    }
   ],
   "source": [
    "y"
   ]
  },
  {
   "cell_type": "markdown",
   "metadata": {},
   "source": [
    "We will try to remove the skewness below\n"
   ]
  },
  {
   "cell_type": "code",
   "execution_count": 125,
   "metadata": {},
   "outputs": [],
   "source": [
    "from sklearn.preprocessing import power_transform"
   ]
  },
  {
   "cell_type": "code",
   "execution_count": 126,
   "metadata": {},
   "outputs": [
    {
     "data": {
      "text/plain": [
       "array([[ 0.94867429,  0.96224689,  1.51433531],\n",
       "       [-1.19131426,  1.0401788 ,  0.78768252],\n",
       "       [-1.6477566 ,  1.37070964,  1.51699753],\n",
       "       [ 0.14102023,  1.14238689,  1.21465643],\n",
       "       [ 0.45271493, -0.74865064,  1.21170398],\n",
       "       [-1.82382233,  1.51501853,  1.66502354],\n",
       "       [-1.00249116,  0.69372704, -0.1077535 ],\n",
       "       [-0.210275  , -0.10158544, -0.84409341],\n",
       "       [-1.82609501, -1.63345378, -2.13259669],\n",
       "       [ 0.64764492, -1.56676988, -0.22900395],\n",
       "       [-0.88377378, -1.20298758, -0.07226156],\n",
       "       [ 0.79708355,  0.18072579, -1.60261898],\n",
       "       [-1.52641627,  0.81900563,  1.42512925],\n",
       "       [-0.48036844, -1.02813642, -1.22982506],\n",
       "       [ 0.69106577,  0.6992403 ,  0.81860579],\n",
       "       [ 0.60295713,  1.45770359,  1.04432344],\n",
       "       [-0.86079972,  0.89906999,  2.52943514],\n",
       "       [ 1.4355201 ,  1.05563142,  1.13383286],\n",
       "       [-0.84199328, -0.04209908, -0.39356015],\n",
       "       [ 0.09508551,  0.17453165, -0.34671544],\n",
       "       [ 0.8337607 ,  0.40367061,  1.05996548],\n",
       "       [ 1.01958629, -1.27567304, -0.1077535 ],\n",
       "       [-1.72701642, -0.35739289,  0.93875739],\n",
       "       [ 0.93109798, -0.28631129,  0.02589311],\n",
       "       [-0.93569772, -0.60431061, -0.39356015],\n",
       "       [ 1.26290943, -1.4550585 , -0.3237259 ],\n",
       "       [ 0.04659013,  0.49664406, -0.76867281],\n",
       "       [ 1.0456669 , -0.30040383, -0.1386789 ],\n",
       "       [ 1.12918152,  0.3682981 , -0.1386789 ],\n",
       "       [-0.82328646, -0.35021379,  0.63452018],\n",
       "       [ 1.54129731,  0.43876195,  0.72114861],\n",
       "       [-0.29553337, -0.25134036,  0.55235877],\n",
       "       [-0.48404243, -1.71918898,  0.20071936],\n",
       "       [ 1.28829734, -0.07502706, -2.32472495],\n",
       "       [-0.50245749, -1.7342107 , -1.20981332],\n",
       "       [ 1.52114819, -1.3853128 , -1.10471076],\n",
       "       [ 1.3004967 ,  1.2675887 , -1.47330873],\n",
       "       [-0.76905257,  1.53874417,  0.80833914],\n",
       "       [-1.21245403,  0.34455612,  0.4155984 ],\n",
       "       [ 0.92816503,  0.95701091,  0.28742321],\n",
       "       [ 0.67493776,  0.07409584,  0.27034854],\n",
       "       [ 0.41309098,  0.72671408,  0.55615392],\n",
       "       [ 1.54769995,  0.40367061, -1.95904851],\n",
       "       [ 0.71920943, -0.95499286,  0.03545918],\n",
       "       [-1.50359538,  0.28462118,  0.72469411],\n",
       "       [ 0.39319467,  0.08679116,  0.26605961],\n",
       "       [-0.57689562, -0.82396106,  0.43960934],\n",
       "       [ 1.04373768,  1.15250515, -0.3817378 ],\n",
       "       [ 0.92033882, -0.36458821,  0.94852755],\n",
       "       [-0.87294338, -0.67550361,  0.48300508],\n",
       "       [ 0.64764492, -1.50354208,  0.3953996 ],\n",
       "       [-0.44500506, -0.84958728, -1.65883577],\n",
       "       [ 0.81395585,  1.16260524,  0.59004665],\n",
       "       [ 0.47140703,  1.38529598,  1.22055211],\n",
       "       [ 1.2610261 ,  0.46779569, -0.54176985],\n",
       "       [ 0.63852563,  1.53874417,  1.25857888],\n",
       "       [-1.85624738,  0.42709558,  0.65646046],\n",
       "       [-0.02802214, -0.12834141, -0.49726342],\n",
       "       [ 0.75824197,  1.54820925,  0.51793191],\n",
       "       [ 0.75724354,  0.50813245, -1.03293213],\n",
       "       [-1.05927427, -1.64727037, -0.21815975],\n",
       "       [ 1.24783212,  1.21283741,  1.10022212],\n",
       "       [ 1.03794746, -0.38627294,  0.07797929],\n",
       "       [-0.41714955,  0.51386586, -1.11394312],\n",
       "       [-0.08546826,  1.21783637,  0.15154706],\n",
       "       [-0.84467375, -0.87549189, -2.1571572 ],\n",
       "       [-1.39531449,  0.21769395, -1.88378271],\n",
       "       [ 0.0066178 , -0.45966823, -0.95619942],\n",
       "       [ 1.01958629,  0.39191142, -0.8911416 ],\n",
       "       [ 0.81792069,  1.2725405 ,  0.07329661],\n",
       "       [ 0.64055308,  0.5708121 ,  0.55615392],\n",
       "       [-0.3321763 , -0.4745618 ,  0.27462933],\n",
       "       [-1.47420382,  0.70474737, -0.33518557],\n",
       "       [-0.10474749, -1.21318999,  0.25745713],\n",
       "       [ 0.7841573 ,  0.21769395, -0.73224866],\n",
       "       [-1.65352738,  1.26263268,  2.01064695],\n",
       "       [-1.46224158, -1.70439494, -0.25638211],\n",
       "       [-0.20680098,  0.45039797, -0.65484297],\n",
       "       [-1.90271957,  0.53102334, -1.02420602],\n",
       "       [-0.25915513, -1.01885558, -0.1283175 ],\n",
       "       [-0.74679627,  0.34455612, -0.17008941],\n",
       "       [ 1.04277291, -1.3853128 ,  0.48691113],\n",
       "       [-0.76118235, -0.05523482,  0.30858709],\n",
       "       [-0.85272745,  1.30216339,  0.43562451],\n",
       "       [ 0.78515237,  1.22782124,  0.36271243],\n",
       "       [ 0.58051341, -0.1824681 ,  1.41963599],\n",
       "       [-0.74810183,  0.39191142, -0.53534269],\n",
       "       [-0.32151022,  1.10682827,  1.35009138],\n",
       "       [-0.59445094,  0.27253204,  1.62418784],\n",
       "       [-0.3321763 ,  1.46250027,  0.99685054],\n",
       "       [-0.04935604, -1.29701657, -1.03293213],\n",
       "       [-1.44360046, -1.71918898,  0.32955606],\n",
       "       [ 0.8268345 ,  0.7321905 ,  1.22937273],\n",
       "       [ 1.14922339,  0.89377076,  1.59579653],\n",
       "       [-0.36073275, -0.49704225, -0.89912378],\n",
       "       [ 0.26831445,  0.62707446,  1.04432344],\n",
       "       [ 0.62533398, -1.4550585 , -1.3679351 ],\n",
       "       [ 0.49522053, -0.00946213, -0.18598289],\n",
       "       [ 1.51197614,  1.19279775,  0.99045745],\n",
       "       [-0.03924063,  1.16260524,  0.8151881 ],\n",
       "       [ 0.87322688, -1.36277082,  0.94527481],\n",
       "       [ 1.57327016,  0.88315609,  2.2628248 ],\n",
       "       [ 1.42441703, -0.80702634, -0.21815975],\n",
       "       [ 0.52616407, -0.26528466, -0.41743473],\n",
       "       [ 1.02732204,  0.77578583, -1.4371576 ],\n",
       "       [-0.00900053,  1.39500055,  1.22937273],\n",
       "       [-1.50533991, -0.73221674,  0.18741746],\n",
       "       [-0.56814506, -1.91962741, -0.12315678],\n",
       "       [-1.72906885, -1.90076688, -0.00306944],\n",
       "       [ 1.19202117,  0.35644335, -1.41364623],\n",
       "       [ 0.90662534, -0.97304835,  1.15501188],\n",
       "       [ 1.06108536,  0.97270342, -0.12315678],\n",
       "       [ 0.39948386, -0.39353456, -1.84832983],\n",
       "       [ 0.74625251, -0.0355487 , -0.91521378],\n",
       "       [-0.72337219,  1.41436293,  0.39133878],\n",
       "       [-0.76380392,  0.81362329,  1.03804144],\n",
       "       [ 0.00550359, -0.4745618 , -0.00306944],\n",
       "       [-0.74679627, -1.82997283, -0.6140794 ],\n",
       "       [-0.1469415 ,  0.91493549,  1.76974284],\n",
       "       [-1.60617806, -0.35021379, -0.17008941],\n",
       "       [ 0.02885793,  0.35050382,  0.82542768],\n",
       "       [-1.61739376,  0.0357579 ,  0.96473213],\n",
       "       [ 0.88896054, -1.59299019, -0.56119394],\n",
       "       [-0.17678774,  0.79203663, -0.78347482],\n",
       "       [ 0.94281959,  0.66606674,  1.64467302],\n",
       "       [-0.60829585, -0.66750027,  0.01146189],\n",
       "       [-1.84451116,  1.01950683,  0.9711866 ],\n",
       "       [-0.69751107, -1.9798635 , -1.04171092],\n",
       "       [ 0.85253082,  1.51977089, -1.71817136],\n",
       "       [-0.9730961 , -0.65156482,  0.71759813],\n",
       "       [-2.04026249,  1.05563142, -1.08642518],\n",
       "       [ 1.2845405 , -1.52845902,  0.71404265],\n",
       "       [-1.83065941,  0.37421339, -1.90202575],\n",
       "       [ 0.84759549,  0.7321905 ,  0.78768252],\n",
       "       [-1.30833884,  1.0039509 ,  1.41688552],\n",
       "       [-1.1347862 ,  1.42402092, -1.10471076],\n",
       "       [-1.49489926,  1.02468221, -1.03293213],\n",
       "       [ 1.36405418,  0.47358005,  1.2498484 ],\n",
       "       [-1.2139708 ,  0.2966758 , -0.26744284],\n",
       "       [ 0.49522053,  1.2725405 , -1.97889407],\n",
       "       [-0.78616198, -0.27928757, -0.74672069],\n",
       "       [ 0.58562018,  0.83511859,  1.68019945],\n",
       "       [ 0.85450412,  0.71574298,  0.52562487],\n",
       "       [-0.39426242, -1.21318999,  0.38727085],\n",
       "       [-0.49631074, -0.43746469,  0.56372647],\n",
       "       [ 0.01774834, -1.66126392, -1.05942991],\n",
       "       [ 1.0456669 , -1.05622936, -1.08642518],\n",
       "       [ 1.07551559,  1.51977089,  0.75987942],\n",
       "       [-1.29103896,  1.09151903, -0.82108927],\n",
       "       [-1.18830853,  0.29065278, -0.26190454],\n",
       "       [ 1.42904484, -0.50457379,  0.49081078],\n",
       "       [-0.20101603, -0.95499286,  0.90922967],\n",
       "       [ 0.62533398,  0.13716541, -0.65484297],\n",
       "       [ 0.35322947,  1.0607726 ,  0.51793191],\n",
       "       [ 0.52513474, -0.00296885, -1.01553176],\n",
       "       [-1.93665721, -0.68353104, -1.39057916],\n",
       "       [-0.52465633,  1.25270792,  0.96796131],\n",
       "       [ 0.12246872, -1.74947332, -0.06724139],\n",
       "       [-1.75822712,  0.91493549,  0.79113681],\n",
       "       [-0.07867963, -0.1824681 ,  0.3953996 ],\n",
       "       [ 0.36587519, -0.20298441,  0.23144984],\n",
       "       [-0.62724967,  0.85652391,  0.92895126],\n",
       "       [ 0.53130856, -0.20298441, -0.00306944],\n",
       "       [ 0.27045056,  0.90965233, -1.20981332],\n",
       "       [-0.24514238, -0.44484785, -1.42534498],\n",
       "       [ 0.99148599, -1.46701964,  1.90420913],\n",
       "       [-1.63438885,  0.95176976, -0.20737541],\n",
       "       [ 0.71820605, -1.26510158, -0.32944703],\n",
       "       [ 0.80403524,  0.15589202,  1.18797267],\n",
       "       [ 1.46230082, -0.76519122, -1.31304986],\n",
       "       [-1.10987617, -0.68353104, -0.38763953],\n",
       "       [ 0.28112073, -0.01596668,  0.86598739],\n",
       "       [-1.60245911, -0.06841773, -0.47232241],\n",
       "       [ 0.32257166, -1.07517365, -0.75400514],\n",
       "       [ 0.87322688, -1.46701964, -0.73224866],\n",
       "       [ 1.39381826,  1.51501853,  0.67098058],\n",
       "       [ 1.12535894,  0.54811736, -0.27856754],\n",
       "       [ 0.34161695, -1.00961537,  0.41961731],\n",
       "       [ 1.39196069, -1.60632069, -0.09754949],\n",
       "       [ 0.29283811, -0.81547901, -0.43554699],\n",
       "       [ 0.19634785, -1.56676988, -1.12323656],\n",
       "       [ 0.83474968, -1.2441519 ,  0.08265171],\n",
       "       [-1.02082882, -1.21318999,  0.18741746],\n",
       "       [ 1.49268741,  1.22782124,  1.58280405],\n",
       "       [ 1.17682728,  0.00998415,  0.20071936],\n",
       "       [ 0.70012304,  1.33163754, -0.31802204],\n",
       "       [ 0.0088456 , -1.63345378,  0.04498207],\n",
       "       [ 0.55902662,  0.46200391, -0.39949982],\n",
       "       [ 1.47796614, -0.50457379, -1.64450612],\n",
       "       [-1.61927178, -0.64363221, -0.11287487],\n",
       "       [-1.267656  ,  1.13225036, -1.37920552],\n",
       "       [-0.75856261, -0.74865064, -1.35676548],\n",
       "       [-1.6477566 , -1.3853128 ,  0.27034854],\n",
       "       [ 0.30559723,  1.1777216 , -1.65883577],\n",
       "       [ 0.12137572,  0.84583242, -1.35676548],\n",
       "       [-1.28790757, -1.43143631, -0.68257581],\n",
       "       [-0.52094879, -1.29701657, -1.14201102],\n",
       "       [ 0.41309098, -0.87549189, -1.31304986],\n",
       "       [ 1.45584317,  1.1777216 ,  1.43335009],\n",
       "       [ 0.96816082, -0.93708342, -1.08642518]])"
      ]
     },
     "execution_count": 126,
     "metadata": {},
     "output_type": "execute_result"
    }
   ],
   "source": [
    "x=power_transform(x,method='yeo-johnson')\n",
    "x"
   ]
  },
  {
   "cell_type": "code",
   "execution_count": 130,
   "metadata": {},
   "outputs": [
    {
     "data": {
      "text/plain": [
       "array([[ 0.94867429,  0.96224689,  1.51433531],\n",
       "       [-1.19131426,  1.0401788 ,  0.78768252],\n",
       "       [-1.6477566 ,  1.37070964,  1.51699753],\n",
       "       [ 0.14102023,  1.14238689,  1.21465643],\n",
       "       [ 0.45271493, -0.74865064,  1.21170398],\n",
       "       [-1.82382233,  1.51501853,  1.66502354],\n",
       "       [-1.00249116,  0.69372704, -0.1077535 ],\n",
       "       [-0.210275  , -0.10158544, -0.84409341],\n",
       "       [-1.82609501, -1.63345378, -2.13259669],\n",
       "       [ 0.64764492, -1.56676988, -0.22900395],\n",
       "       [-0.88377378, -1.20298758, -0.07226156],\n",
       "       [ 0.79708355,  0.18072579, -1.60261898],\n",
       "       [-1.52641627,  0.81900563,  1.42512925],\n",
       "       [-0.48036844, -1.02813642, -1.22982506],\n",
       "       [ 0.69106577,  0.6992403 ,  0.81860579],\n",
       "       [ 0.60295713,  1.45770359,  1.04432344],\n",
       "       [-0.86079972,  0.89906999,  2.52943514],\n",
       "       [ 1.4355201 ,  1.05563142,  1.13383286],\n",
       "       [-0.84199328, -0.04209908, -0.39356015],\n",
       "       [ 0.09508551,  0.17453165, -0.34671544],\n",
       "       [ 0.8337607 ,  0.40367061,  1.05996548],\n",
       "       [ 1.01958629, -1.27567304, -0.1077535 ],\n",
       "       [-1.72701642, -0.35739289,  0.93875739],\n",
       "       [ 0.93109798, -0.28631129,  0.02589311],\n",
       "       [-0.93569772, -0.60431061, -0.39356015],\n",
       "       [ 1.26290943, -1.4550585 , -0.3237259 ],\n",
       "       [ 0.04659013,  0.49664406, -0.76867281],\n",
       "       [ 1.0456669 , -0.30040383, -0.1386789 ],\n",
       "       [ 1.12918152,  0.3682981 , -0.1386789 ],\n",
       "       [-0.82328646, -0.35021379,  0.63452018],\n",
       "       [ 1.54129731,  0.43876195,  0.72114861],\n",
       "       [-0.29553337, -0.25134036,  0.55235877],\n",
       "       [-0.48404243, -1.71918898,  0.20071936],\n",
       "       [ 1.28829734, -0.07502706, -2.32472495],\n",
       "       [-0.50245749, -1.7342107 , -1.20981332],\n",
       "       [ 1.52114819, -1.3853128 , -1.10471076],\n",
       "       [ 1.3004967 ,  1.2675887 , -1.47330873],\n",
       "       [-0.76905257,  1.53874417,  0.80833914],\n",
       "       [-1.21245403,  0.34455612,  0.4155984 ],\n",
       "       [ 0.92816503,  0.95701091,  0.28742321],\n",
       "       [ 0.67493776,  0.07409584,  0.27034854],\n",
       "       [ 0.41309098,  0.72671408,  0.55615392],\n",
       "       [ 1.54769995,  0.40367061, -1.95904851],\n",
       "       [ 0.71920943, -0.95499286,  0.03545918],\n",
       "       [-1.50359538,  0.28462118,  0.72469411],\n",
       "       [ 0.39319467,  0.08679116,  0.26605961],\n",
       "       [-0.57689562, -0.82396106,  0.43960934],\n",
       "       [ 1.04373768,  1.15250515, -0.3817378 ],\n",
       "       [ 0.92033882, -0.36458821,  0.94852755],\n",
       "       [-0.87294338, -0.67550361,  0.48300508],\n",
       "       [ 0.64764492, -1.50354208,  0.3953996 ],\n",
       "       [-0.44500506, -0.84958728, -1.65883577],\n",
       "       [ 0.81395585,  1.16260524,  0.59004665],\n",
       "       [ 0.47140703,  1.38529598,  1.22055211],\n",
       "       [ 1.2610261 ,  0.46779569, -0.54176985],\n",
       "       [ 0.63852563,  1.53874417,  1.25857888],\n",
       "       [-1.85624738,  0.42709558,  0.65646046],\n",
       "       [-0.02802214, -0.12834141, -0.49726342],\n",
       "       [ 0.75824197,  1.54820925,  0.51793191],\n",
       "       [ 0.75724354,  0.50813245, -1.03293213],\n",
       "       [-1.05927427, -1.64727037, -0.21815975],\n",
       "       [ 1.24783212,  1.21283741,  1.10022212],\n",
       "       [ 1.03794746, -0.38627294,  0.07797929],\n",
       "       [-0.41714955,  0.51386586, -1.11394312],\n",
       "       [-0.08546826,  1.21783637,  0.15154706],\n",
       "       [-0.84467375, -0.87549189, -2.1571572 ],\n",
       "       [-1.39531449,  0.21769395, -1.88378271],\n",
       "       [ 0.0066178 , -0.45966823, -0.95619942],\n",
       "       [ 1.01958629,  0.39191142, -0.8911416 ],\n",
       "       [ 0.81792069,  1.2725405 ,  0.07329661],\n",
       "       [ 0.64055308,  0.5708121 ,  0.55615392],\n",
       "       [-0.3321763 , -0.4745618 ,  0.27462933],\n",
       "       [-1.47420382,  0.70474737, -0.33518557],\n",
       "       [-0.10474749, -1.21318999,  0.25745713],\n",
       "       [ 0.7841573 ,  0.21769395, -0.73224866],\n",
       "       [-1.65352738,  1.26263268,  2.01064695],\n",
       "       [-1.46224158, -1.70439494, -0.25638211],\n",
       "       [-0.20680098,  0.45039797, -0.65484297],\n",
       "       [-1.90271957,  0.53102334, -1.02420602],\n",
       "       [-0.25915513, -1.01885558, -0.1283175 ],\n",
       "       [-0.74679627,  0.34455612, -0.17008941],\n",
       "       [ 1.04277291, -1.3853128 ,  0.48691113],\n",
       "       [-0.76118235, -0.05523482,  0.30858709],\n",
       "       [-0.85272745,  1.30216339,  0.43562451],\n",
       "       [ 0.78515237,  1.22782124,  0.36271243],\n",
       "       [ 0.58051341, -0.1824681 ,  1.41963599],\n",
       "       [-0.74810183,  0.39191142, -0.53534269],\n",
       "       [-0.32151022,  1.10682827,  1.35009138],\n",
       "       [-0.59445094,  0.27253204,  1.62418784],\n",
       "       [-0.3321763 ,  1.46250027,  0.99685054],\n",
       "       [-0.04935604, -1.29701657, -1.03293213],\n",
       "       [-1.44360046, -1.71918898,  0.32955606],\n",
       "       [ 0.8268345 ,  0.7321905 ,  1.22937273],\n",
       "       [ 1.14922339,  0.89377076,  1.59579653],\n",
       "       [-0.36073275, -0.49704225, -0.89912378],\n",
       "       [ 0.26831445,  0.62707446,  1.04432344],\n",
       "       [ 0.62533398, -1.4550585 , -1.3679351 ],\n",
       "       [ 0.49522053, -0.00946213, -0.18598289],\n",
       "       [ 1.51197614,  1.19279775,  0.99045745],\n",
       "       [-0.03924063,  1.16260524,  0.8151881 ],\n",
       "       [ 0.87322688, -1.36277082,  0.94527481],\n",
       "       [ 1.57327016,  0.88315609,  2.2628248 ],\n",
       "       [ 1.42441703, -0.80702634, -0.21815975],\n",
       "       [ 0.52616407, -0.26528466, -0.41743473],\n",
       "       [ 1.02732204,  0.77578583, -1.4371576 ],\n",
       "       [-0.00900053,  1.39500055,  1.22937273],\n",
       "       [-1.50533991, -0.73221674,  0.18741746],\n",
       "       [-0.56814506, -1.91962741, -0.12315678],\n",
       "       [-1.72906885, -1.90076688, -0.00306944],\n",
       "       [ 1.19202117,  0.35644335, -1.41364623],\n",
       "       [ 0.90662534, -0.97304835,  1.15501188],\n",
       "       [ 1.06108536,  0.97270342, -0.12315678],\n",
       "       [ 0.39948386, -0.39353456, -1.84832983],\n",
       "       [ 0.74625251, -0.0355487 , -0.91521378],\n",
       "       [-0.72337219,  1.41436293,  0.39133878],\n",
       "       [-0.76380392,  0.81362329,  1.03804144],\n",
       "       [ 0.00550359, -0.4745618 , -0.00306944],\n",
       "       [-0.74679627, -1.82997283, -0.6140794 ],\n",
       "       [-0.1469415 ,  0.91493549,  1.76974284],\n",
       "       [-1.60617806, -0.35021379, -0.17008941],\n",
       "       [ 0.02885793,  0.35050382,  0.82542768],\n",
       "       [-1.61739376,  0.0357579 ,  0.96473213],\n",
       "       [ 0.88896054, -1.59299019, -0.56119394],\n",
       "       [-0.17678774,  0.79203663, -0.78347482],\n",
       "       [ 0.94281959,  0.66606674,  1.64467302],\n",
       "       [-0.60829585, -0.66750027,  0.01146189],\n",
       "       [-1.84451116,  1.01950683,  0.9711866 ],\n",
       "       [-0.69751107, -1.9798635 , -1.04171092],\n",
       "       [ 0.85253082,  1.51977089, -1.71817136],\n",
       "       [-0.9730961 , -0.65156482,  0.71759813],\n",
       "       [-2.04026249,  1.05563142, -1.08642518],\n",
       "       [ 1.2845405 , -1.52845902,  0.71404265],\n",
       "       [-1.83065941,  0.37421339, -1.90202575],\n",
       "       [ 0.84759549,  0.7321905 ,  0.78768252],\n",
       "       [-1.30833884,  1.0039509 ,  1.41688552],\n",
       "       [-1.1347862 ,  1.42402092, -1.10471076],\n",
       "       [-1.49489926,  1.02468221, -1.03293213],\n",
       "       [ 1.36405418,  0.47358005,  1.2498484 ],\n",
       "       [-1.2139708 ,  0.2966758 , -0.26744284],\n",
       "       [ 0.49522053,  1.2725405 , -1.97889407],\n",
       "       [-0.78616198, -0.27928757, -0.74672069],\n",
       "       [ 0.58562018,  0.83511859,  1.68019945],\n",
       "       [ 0.85450412,  0.71574298,  0.52562487],\n",
       "       [-0.39426242, -1.21318999,  0.38727085],\n",
       "       [-0.49631074, -0.43746469,  0.56372647],\n",
       "       [ 0.01774834, -1.66126392, -1.05942991],\n",
       "       [ 1.0456669 , -1.05622936, -1.08642518],\n",
       "       [ 1.07551559,  1.51977089,  0.75987942],\n",
       "       [-1.29103896,  1.09151903, -0.82108927],\n",
       "       [-1.18830853,  0.29065278, -0.26190454],\n",
       "       [ 1.42904484, -0.50457379,  0.49081078],\n",
       "       [-0.20101603, -0.95499286,  0.90922967],\n",
       "       [ 0.62533398,  0.13716541, -0.65484297],\n",
       "       [ 0.35322947,  1.0607726 ,  0.51793191],\n",
       "       [ 0.52513474, -0.00296885, -1.01553176],\n",
       "       [-1.93665721, -0.68353104, -1.39057916],\n",
       "       [-0.52465633,  1.25270792,  0.96796131],\n",
       "       [ 0.12246872, -1.74947332, -0.06724139],\n",
       "       [-1.75822712,  0.91493549,  0.79113681],\n",
       "       [-0.07867963, -0.1824681 ,  0.3953996 ],\n",
       "       [ 0.36587519, -0.20298441,  0.23144984],\n",
       "       [-0.62724967,  0.85652391,  0.92895126],\n",
       "       [ 0.53130856, -0.20298441, -0.00306944],\n",
       "       [ 0.27045056,  0.90965233, -1.20981332],\n",
       "       [-0.24514238, -0.44484785, -1.42534498],\n",
       "       [ 0.99148599, -1.46701964,  1.90420913],\n",
       "       [-1.63438885,  0.95176976, -0.20737541],\n",
       "       [ 0.71820605, -1.26510158, -0.32944703],\n",
       "       [ 0.80403524,  0.15589202,  1.18797267],\n",
       "       [ 1.46230082, -0.76519122, -1.31304986],\n",
       "       [-1.10987617, -0.68353104, -0.38763953],\n",
       "       [ 0.28112073, -0.01596668,  0.86598739],\n",
       "       [-1.60245911, -0.06841773, -0.47232241],\n",
       "       [ 0.32257166, -1.07517365, -0.75400514],\n",
       "       [ 0.87322688, -1.46701964, -0.73224866],\n",
       "       [ 1.39381826,  1.51501853,  0.67098058],\n",
       "       [ 1.12535894,  0.54811736, -0.27856754],\n",
       "       [ 0.34161695, -1.00961537,  0.41961731],\n",
       "       [ 1.39196069, -1.60632069, -0.09754949],\n",
       "       [ 0.29283811, -0.81547901, -0.43554699],\n",
       "       [ 0.19634785, -1.56676988, -1.12323656],\n",
       "       [ 0.83474968, -1.2441519 ,  0.08265171],\n",
       "       [-1.02082882, -1.21318999,  0.18741746],\n",
       "       [ 1.49268741,  1.22782124,  1.58280405],\n",
       "       [ 1.17682728,  0.00998415,  0.20071936],\n",
       "       [ 0.70012304,  1.33163754, -0.31802204],\n",
       "       [ 0.0088456 , -1.63345378,  0.04498207],\n",
       "       [ 0.55902662,  0.46200391, -0.39949982],\n",
       "       [ 1.47796614, -0.50457379, -1.64450612],\n",
       "       [-1.61927178, -0.64363221, -0.11287487],\n",
       "       [-1.267656  ,  1.13225036, -1.37920552],\n",
       "       [-0.75856261, -0.74865064, -1.35676548],\n",
       "       [-1.6477566 , -1.3853128 ,  0.27034854],\n",
       "       [ 0.30559723,  1.1777216 , -1.65883577],\n",
       "       [ 0.12137572,  0.84583242, -1.35676548],\n",
       "       [-1.28790757, -1.43143631, -0.68257581],\n",
       "       [-0.52094879, -1.29701657, -1.14201102],\n",
       "       [ 0.41309098, -0.87549189, -1.31304986],\n",
       "       [ 1.45584317,  1.1777216 ,  1.43335009],\n",
       "       [ 0.96816082, -0.93708342, -1.08642518]])"
      ]
     },
     "execution_count": 130,
     "metadata": {},
     "output_type": "execute_result"
    }
   ],
   "source": [
    "from sklearn.preprocessing import StandardScaler\n",
    "sc=StandardScaler()\n",
    "x=sc.fit_transform(x)\n",
    "x"
   ]
  },
  {
   "cell_type": "code",
   "execution_count": 137,
   "metadata": {},
   "outputs": [],
   "source": [
    "from sklearn.model_selection import  train_test_split, cross_val_score\n",
    "from sklearn.metrics import r2_score, mean_squared_error\n",
    "from sklearn.metrics import mean_absolute_error\n",
    "x_train,x_test,y_train,y_test=train_test_split(x,y,test_size=0.2)"
   ]
  },
  {
   "cell_type": "code",
   "execution_count": 138,
   "metadata": {},
   "outputs": [
    {
     "name": "stdout",
     "output_type": "stream",
     "text": [
      "(160, 3) (40, 3)\n",
      "(160,) (40,)\n"
     ]
    }
   ],
   "source": [
    "print (x_train.shape, x_test.shape)\n",
    "print (y_train.shape, y_test.shape)"
   ]
  },
  {
   "cell_type": "markdown",
   "metadata": {},
   "source": [
    "As we are getting the contineous values we are using the Regression model for thsi dataset."
   ]
  },
  {
   "cell_type": "code",
   "execution_count": 144,
   "metadata": {},
   "outputs": [
    {
     "data": {
      "text/plain": [
       "LinearRegression()"
      ]
     },
     "execution_count": 144,
     "metadata": {},
     "output_type": "execute_result"
    }
   ],
   "source": [
    "from sklearn.linear_model import LinearRegression\n",
    "lm = LinearRegression()\n",
    "lm.fit(x_train, y_train)"
   ]
  },
  {
   "cell_type": "code",
   "execution_count": 145,
   "metadata": {},
   "outputs": [
    {
     "name": "stdout",
     "output_type": "stream",
     "text": [
      "Prediction [12.26547423 19.87256169  9.26992787 22.34448115  9.68454469 12.3232653\n",
      " 13.2190952  18.70120637 15.33483148 15.16183262 20.6621318  15.42167888\n",
      "  2.13852152 21.15941233 17.57667882 15.56201986 17.10886845 15.14178274\n",
      " 10.80056928 10.24177051 12.91556785 19.42556005 20.45641538 22.3147705\n",
      " 15.13065066 12.24833378 15.92951482 17.07300743 11.75441489  5.01229823\n",
      " 16.16283949 22.44075966 13.99300042 15.83751172 16.56560457 11.2115412\n",
      " 20.42837974 11.64899827 19.77417125 10.18856043]\n",
      "Actual value 31     11.9\n",
      "176    20.2\n",
      "143    10.4\n",
      "61     24.2\n",
      "158     7.3\n",
      "9      10.6\n",
      "135    11.6\n",
      "184    17.6\n",
      "123    15.2\n",
      "178    11.8\n",
      "69     22.3\n",
      "26     15.0\n",
      "8       4.8\n",
      "47     23.2\n",
      "74     17.0\n",
      "162    14.9\n",
      "99     17.2\n",
      "110    13.4\n",
      "151    11.6\n",
      "38     10.1\n",
      "179    12.6\n",
      "28     18.9\n",
      "84     21.7\n",
      "36     25.4\n",
      "146    13.2\n",
      "1      10.4\n",
      "87     16.0\n",
      "62     15.7\n",
      "148    10.9\n",
      "195     7.6\n",
      "118    15.9\n",
      "147    25.4\n",
      "161    13.3\n",
      "45     14.9\n",
      "194    17.3\n",
      "75      8.7\n",
      "52     22.6\n",
      "164    11.9\n",
      "53     21.2\n",
      "90     11.2\n",
      "Name: sales, dtype: float64\n"
     ]
    }
   ],
   "source": [
    "pred=lm.predict(x_test)\n",
    "print('Prediction',pred)\n",
    "print('Actual value', y_test)               # predicted and actual values"
   ]
  },
  {
   "cell_type": "code",
   "execution_count": 169,
   "metadata": {},
   "outputs": [
    {
     "name": "stdout",
     "output_type": "stream",
     "text": [
      "Mean absolute error: 1.2892665306908389\n",
      "Mean squared error:\n",
      "Root mean Squared Error: 1.582081292043046\n"
     ]
    }
   ],
   "source": [
    "print('Mean absolute error:',mean_absolute_error(y_test,pred))\n",
    "print('Mean squared error:'),mean_squared_error(y_test,pred)\n",
    "print('Root mean Squared Error:',np.sqrt(mean_squared_error(y_test,pred)))"
   ]
  },
  {
   "cell_type": "code",
   "execution_count": 170,
   "metadata": {},
   "outputs": [
    {
     "data": {
      "text/plain": [
       "array([3.93002051, 2.68537266, 0.14909911])"
      ]
     },
     "execution_count": 170,
     "metadata": {},
     "output_type": "execute_result"
    }
   ],
   "source": [
    "lm.coef_"
   ]
  },
  {
   "cell_type": "code",
   "execution_count": 171,
   "metadata": {},
   "outputs": [
    {
     "data": {
      "text/plain": [
       "14.019512775614087"
      ]
     },
     "execution_count": 171,
     "metadata": {},
     "output_type": "execute_result"
    }
   ],
   "source": [
    "lm.intercept_"
   ]
  },
  {
   "cell_type": "code",
   "execution_count": 172,
   "metadata": {},
   "outputs": [
    {
     "data": {
      "text/plain": [
       "0.9058994959922815"
      ]
     },
     "execution_count": 172,
     "metadata": {},
     "output_type": "execute_result"
    }
   ],
   "source": [
    "lm.score(x_train,y_train)"
   ]
  },
  {
   "cell_type": "code",
   "execution_count": 182,
   "metadata": {},
   "outputs": [
    {
     "name": "stdout",
     "output_type": "stream",
     "text": [
      "r2 score is  0.906358824523843\n"
     ]
    }
   ],
   "source": [
    "from sklearn.metrics import r2_score\n",
    "print(\"r2 score is \", r2_score(y_test,pred))"
   ]
  },
  {
   "cell_type": "markdown",
   "metadata": {},
   "source": [
    "r2 score -> coeffiecient of determination is the proportion of the variance in the dependent variable that is predicatable from the independent variable (s)\n",
    "i.e change coming in y whenever x is being changed"
   ]
  },
  {
   "cell_type": "code",
   "execution_count": 174,
   "metadata": {},
   "outputs": [
    {
     "name": "stdout",
     "output_type": "stream",
     "text": [
      "Lasso Score is  0.905890600947829\n"
     ]
    }
   ],
   "source": [
    "from sklearn.linear_model import Lasso,Ridge\n",
    "ls=Lasso(alpha=0.01)\n",
    "#ls=Lasso(alpha=0.1) is adefault value\n",
    "ls.fit(x_train,y_train)\n",
    "print('Lasso Score is ',ls.score(x_train,y_train) )"
   ]
  },
  {
   "cell_type": "code",
   "execution_count": 175,
   "metadata": {},
   "outputs": [
    {
     "name": "stdout",
     "output_type": "stream",
     "text": [
      "Ridge Score is  0.9058994927764981\n"
     ]
    }
   ],
   "source": [
    "rd=Ridge(alpha=0.01)\n",
    "#rd=Ridge()\n",
    "rd.fit(x_train,y_train)\n",
    "print('Ridge Score is ',rd.score(x_train,y_train)"
   ]
  },
  {
   "cell_type": "code",
   "execution_count": 176,
   "metadata": {},
   "outputs": [
    {
     "name": "stdout",
     "output_type": "stream",
     "text": [
      "0.9058994926544445\n"
     ]
    },
    {
     "data": {
      "text/plain": [
       "array([3.9297878 , 2.68519657, 0.14910385])"
      ]
     },
     "execution_count": 176,
     "metadata": {},
     "output_type": "execute_result"
    }
   ],
   "source": [
    "from sklearn.linear_model import ElasticNet\n",
    "enr= ElasticNet(alpha=0.0001)      #enr= ElasticNet\n",
    "enr.fit(x_train,y_train)\n",
    "enrpred=enr.predict(x_test)\n",
    "print(enr.score(x_train,y_train))\n",
    "enr.coef_"
   ]
  },
  {
   "cell_type": "code",
   "execution_count": 181,
   "metadata": {},
   "outputs": [
    {
     "name": "stdout",
     "output_type": "stream",
     "text": [
      "linear=  0.9050428801879107\n",
      "poly=  0.8104145912993637\n",
      "rbf = 0.9292906380493723\n",
      "0.9050428801879107\n",
      "0.8104145912993637\n",
      "0.9292906380493723\n"
     ]
    }
   ],
   "source": [
    "from sklearn.svm import SVR\n",
    "\n",
    "svr =SVR(kernel='linear')\n",
    "svr.fit(x_train,y_train)\n",
    "print ('linear= ',svr.score(x_train,y_train))\n",
    "pred_y=svr.predict(x_test)\n",
    "\n",
    "\n",
    "svr= SVR(kernel ='poly')\n",
    "svr.fit(x_train,y_train)\n",
    "print('poly= ',svr.score(x_train,y_train))\n",
    "pred_y=svr.predict(x_test)\n",
    "\n",
    "svr = SVR(kernel='rbf')\n",
    "svr.fit(x_train,y_train)\n",
    "print ('rbf =',svr.score(x_train,y_train))\n",
    "pred_y=svr.predict(x_test)\n",
    "\n",
    "\n",
    "kernellist=['linear','poly','rbf']\n",
    "for i in kernellist:\n",
    "    sv=SVR(kernel=i)\n",
    "    sv.fit(x_train,y_train)\n",
    "    print(sv.score(x_train,y_train))"
   ]
  },
  {
   "cell_type": "markdown",
   "metadata": {},
   "source": [
    "Saving the model of linear regression i.e lm."
   ]
  },
  {
   "cell_type": "code",
   "execution_count": 184,
   "metadata": {},
   "outputs": [],
   "source": [
    "import pickle\n",
    "filename='advertise.pkl'\n",
    "pickle.dump(lm,open(filename,'wb'))"
   ]
  },
  {
   "cell_type": "markdown",
   "metadata": {},
   "source": [
    "The Actual andpredicted value are as below"
   ]
  },
  {
   "cell_type": "code",
   "execution_count": 190,
   "metadata": {},
   "outputs": [
    {
     "name": "stdout",
     "output_type": "stream",
     "text": [
      "\n",
      " Prediction [12.26547423 19.87256169  9.26992787 22.34448115  9.68454469 12.3232653\n",
      " 13.2190952  18.70120637 15.33483148 15.16183262 20.6621318  15.42167888\n",
      "  2.13852152 21.15941233 17.57667882 15.56201986 17.10886845 15.14178274\n",
      " 10.80056928 10.24177051 12.91556785 19.42556005 20.45641538 22.3147705\n",
      " 15.13065066 12.24833378 15.92951482 17.07300743 11.75441489  5.01229823\n",
      " 16.16283949 22.44075966 13.99300042 15.83751172 16.56560457 11.2115412\n",
      " 20.42837974 11.64899827 19.77417125 10.18856043]\n",
      "Actual value 31     11.9\n",
      "176    20.2\n",
      "143    10.4\n",
      "61     24.2\n",
      "158     7.3\n",
      "9      10.6\n",
      "135    11.6\n",
      "184    17.6\n",
      "123    15.2\n",
      "178    11.8\n",
      "69     22.3\n",
      "26     15.0\n",
      "8       4.8\n",
      "47     23.2\n",
      "74     17.0\n",
      "162    14.9\n",
      "99     17.2\n",
      "110    13.4\n",
      "151    11.6\n",
      "38     10.1\n",
      "179    12.6\n",
      "28     18.9\n",
      "84     21.7\n",
      "36     25.4\n",
      "146    13.2\n",
      "1      10.4\n",
      "87     16.0\n",
      "62     15.7\n",
      "148    10.9\n",
      "195     7.6\n",
      "118    15.9\n",
      "147    25.4\n",
      "161    13.3\n",
      "45     14.9\n",
      "194    17.3\n",
      "75      8.7\n",
      "52     22.6\n",
      "164    11.9\n",
      "53     21.2\n",
      "90     11.2\n",
      "Name: sales, dtype: float64\n"
     ]
    }
   ],
   "source": [
    "pred=lm.predict(x_test)\n",
    "print('Prediction',pred)\n",
    "print('Actual value', y_test) "
   ]
  },
  {
   "cell_type": "markdown",
   "metadata": {},
   "source": [
    "Our model is 90.05% precise."
   ]
  }
 ],
 "metadata": {
  "kernelspec": {
   "display_name": "Python 3",
   "language": "python",
   "name": "python3"
  },
  "language_info": {
   "codemirror_mode": {
    "name": "ipython",
    "version": 3
   },
   "file_extension": ".py",
   "mimetype": "text/x-python",
   "name": "python",
   "nbconvert_exporter": "python",
   "pygments_lexer": "ipython3",
   "version": "3.8.5"
  }
 },
 "nbformat": 4,
 "nbformat_minor": 4
}
